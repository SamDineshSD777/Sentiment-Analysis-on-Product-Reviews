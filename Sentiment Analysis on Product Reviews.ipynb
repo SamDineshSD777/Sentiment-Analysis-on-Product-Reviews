{
 "cells": [
  {
   "cell_type": "code",
   "execution_count": 1,
   "id": "cb3c3fe5",
   "metadata": {},
   "outputs": [],
   "source": [
    "## Sentiment Analysis on Product Reviews"
   ]
  },
  {
   "cell_type": "code",
   "execution_count": 2,
   "id": "4b416f28",
   "metadata": {},
   "outputs": [],
   "source": [
    "## Basic imports "
   ]
  },
  {
   "cell_type": "code",
   "execution_count": 6,
   "id": "af9a7598",
   "metadata": {},
   "outputs": [
    {
     "name": "stderr",
     "output_type": "stream",
     "text": [
      "None of PyTorch, TensorFlow >= 2.0, or Flax have been found. Models won't be available and only tokenizers, configuration and file/data utilities can be used.\n"
     ]
    }
   ],
   "source": [
    "# required libraries\n",
    "import numpy as np \n",
    "import pandas as pd\n",
    "\n",
    "import matplotlib.pyplot as plt\n",
    "from matplotlib.colors import LinearSegmentedColormap\n",
    "import seaborn as sns\n",
    "\n",
    "import re\n",
    "import string\n",
    "\n",
    "import spacy\n",
    "from wordcloud import WordCloud, STOPWORDS, ImageColorGenerator\n",
    "\n",
    "from collections import Counter\n",
    "\n",
    "from sklearn.feature_extraction.text import TfidfVectorizer\n",
    "from sklearn.model_selection import cross_validate\n",
    "from sklearn.model_selection import train_test_split\n",
    "from sklearn.model_selection import StratifiedKFold\n",
    "from sklearn.metrics import classification_report\n",
    "from sklearn.metrics import confusion_matrix\n",
    "from sklearn.metrics import roc_auc_score\n",
    "from sklearn.utils import shuffle\n",
    "from sklearn.naive_bayes import MultinomialNB\n",
    "\n",
    "from xgboost import XGBClassifier\n",
    "\n",
    "from transformers import pipeline\n",
    "\n",
    "import warnings\n",
    "warnings.filterwarnings('ignore')"
   ]
  },
  {
   "cell_type": "code",
   "execution_count": 7,
   "id": "41edabe1",
   "metadata": {},
   "outputs": [
    {
     "name": "stdout",
     "output_type": "stream",
     "text": [
      "Requirement already satisfied: pyforest in c:\\users\\hp\\anaconda3\\lib\\site-packages (1.1.0)\n",
      "Note: you may need to restart the kernel to use updated packages.\n"
     ]
    }
   ],
   "source": [
    "pip install pyforest "
   ]
  },
  {
   "cell_type": "code",
   "execution_count": 8,
   "id": "1b368787",
   "metadata": {},
   "outputs": [],
   "source": [
    "import warnings\n",
    "warnings.filterwarnings(\"ignore\")"
   ]
  },
  {
   "cell_type": "code",
   "execution_count": 9,
   "id": "9c14bffe",
   "metadata": {},
   "outputs": [],
   "source": [
    "import pyforest "
   ]
  },
  {
   "cell_type": "code",
   "execution_count": 10,
   "id": "31d704ce",
   "metadata": {},
   "outputs": [],
   "source": [
    "data = pd.read_csv(\"E:\\crome downloades\\zumit labs/1429_1.csv\")"
   ]
  },
  {
   "cell_type": "code",
   "execution_count": 11,
   "id": "cc7d16c1",
   "metadata": {},
   "outputs": [
    {
     "data": {
      "text/html": [
       "<div>\n",
       "<style scoped>\n",
       "    .dataframe tbody tr th:only-of-type {\n",
       "        vertical-align: middle;\n",
       "    }\n",
       "\n",
       "    .dataframe tbody tr th {\n",
       "        vertical-align: top;\n",
       "    }\n",
       "\n",
       "    .dataframe thead th {\n",
       "        text-align: right;\n",
       "    }\n",
       "</style>\n",
       "<table border=\"1\" class=\"dataframe\">\n",
       "  <thead>\n",
       "    <tr style=\"text-align: right;\">\n",
       "      <th></th>\n",
       "      <th>id</th>\n",
       "      <th>name</th>\n",
       "      <th>asins</th>\n",
       "      <th>brand</th>\n",
       "      <th>categories</th>\n",
       "      <th>keys</th>\n",
       "      <th>manufacturer</th>\n",
       "      <th>reviews.date</th>\n",
       "      <th>reviews.dateAdded</th>\n",
       "      <th>reviews.dateSeen</th>\n",
       "      <th>...</th>\n",
       "      <th>reviews.doRecommend</th>\n",
       "      <th>reviews.id</th>\n",
       "      <th>reviews.numHelpful</th>\n",
       "      <th>reviews.rating</th>\n",
       "      <th>reviews.sourceURLs</th>\n",
       "      <th>reviews.text</th>\n",
       "      <th>reviews.title</th>\n",
       "      <th>reviews.userCity</th>\n",
       "      <th>reviews.userProvince</th>\n",
       "      <th>reviews.username</th>\n",
       "    </tr>\n",
       "  </thead>\n",
       "  <tbody>\n",
       "    <tr>\n",
       "      <th>0</th>\n",
       "      <td>AVqkIhwDv8e3D1O-lebb</td>\n",
       "      <td>All-New Fire HD 8 Tablet, 8 HD Display, Wi-Fi,...</td>\n",
       "      <td>B01AHB9CN2</td>\n",
       "      <td>Amazon</td>\n",
       "      <td>Electronics,iPad &amp; Tablets,All Tablets,Fire Ta...</td>\n",
       "      <td>841667104676,amazon/53004484,amazon/b01ahb9cn2...</td>\n",
       "      <td>Amazon</td>\n",
       "      <td>2017-01-13T00:00:00.000Z</td>\n",
       "      <td>2017-07-03T23:33:15Z</td>\n",
       "      <td>2017-06-07T09:04:00.000Z,2017-04-30T00:45:00.000Z</td>\n",
       "      <td>...</td>\n",
       "      <td>True</td>\n",
       "      <td>NaN</td>\n",
       "      <td>0.0</td>\n",
       "      <td>5.0</td>\n",
       "      <td>http://reviews.bestbuy.com/3545/5620406/review...</td>\n",
       "      <td>This product so far has not disappointed. My c...</td>\n",
       "      <td>Kindle</td>\n",
       "      <td>NaN</td>\n",
       "      <td>NaN</td>\n",
       "      <td>Adapter</td>\n",
       "    </tr>\n",
       "    <tr>\n",
       "      <th>1</th>\n",
       "      <td>AVqkIhwDv8e3D1O-lebb</td>\n",
       "      <td>All-New Fire HD 8 Tablet, 8 HD Display, Wi-Fi,...</td>\n",
       "      <td>B01AHB9CN2</td>\n",
       "      <td>Amazon</td>\n",
       "      <td>Electronics,iPad &amp; Tablets,All Tablets,Fire Ta...</td>\n",
       "      <td>841667104676,amazon/53004484,amazon/b01ahb9cn2...</td>\n",
       "      <td>Amazon</td>\n",
       "      <td>2017-01-13T00:00:00.000Z</td>\n",
       "      <td>2017-07-03T23:33:15Z</td>\n",
       "      <td>2017-06-07T09:04:00.000Z,2017-04-30T00:45:00.000Z</td>\n",
       "      <td>...</td>\n",
       "      <td>True</td>\n",
       "      <td>NaN</td>\n",
       "      <td>0.0</td>\n",
       "      <td>5.0</td>\n",
       "      <td>http://reviews.bestbuy.com/3545/5620406/review...</td>\n",
       "      <td>great for beginner or experienced person. Boug...</td>\n",
       "      <td>very fast</td>\n",
       "      <td>NaN</td>\n",
       "      <td>NaN</td>\n",
       "      <td>truman</td>\n",
       "    </tr>\n",
       "    <tr>\n",
       "      <th>2</th>\n",
       "      <td>AVqkIhwDv8e3D1O-lebb</td>\n",
       "      <td>All-New Fire HD 8 Tablet, 8 HD Display, Wi-Fi,...</td>\n",
       "      <td>B01AHB9CN2</td>\n",
       "      <td>Amazon</td>\n",
       "      <td>Electronics,iPad &amp; Tablets,All Tablets,Fire Ta...</td>\n",
       "      <td>841667104676,amazon/53004484,amazon/b01ahb9cn2...</td>\n",
       "      <td>Amazon</td>\n",
       "      <td>2017-01-13T00:00:00.000Z</td>\n",
       "      <td>2017-07-03T23:33:15Z</td>\n",
       "      <td>2017-06-07T09:04:00.000Z,2017-04-30T00:45:00.000Z</td>\n",
       "      <td>...</td>\n",
       "      <td>True</td>\n",
       "      <td>NaN</td>\n",
       "      <td>0.0</td>\n",
       "      <td>5.0</td>\n",
       "      <td>http://reviews.bestbuy.com/3545/5620406/review...</td>\n",
       "      <td>Inexpensive tablet for him to use and learn on...</td>\n",
       "      <td>Beginner tablet for our 9 year old son.</td>\n",
       "      <td>NaN</td>\n",
       "      <td>NaN</td>\n",
       "      <td>DaveZ</td>\n",
       "    </tr>\n",
       "    <tr>\n",
       "      <th>3</th>\n",
       "      <td>AVqkIhwDv8e3D1O-lebb</td>\n",
       "      <td>All-New Fire HD 8 Tablet, 8 HD Display, Wi-Fi,...</td>\n",
       "      <td>B01AHB9CN2</td>\n",
       "      <td>Amazon</td>\n",
       "      <td>Electronics,iPad &amp; Tablets,All Tablets,Fire Ta...</td>\n",
       "      <td>841667104676,amazon/53004484,amazon/b01ahb9cn2...</td>\n",
       "      <td>Amazon</td>\n",
       "      <td>2017-01-13T00:00:00.000Z</td>\n",
       "      <td>2017-07-03T23:33:15Z</td>\n",
       "      <td>2017-06-07T09:04:00.000Z,2017-04-30T00:45:00.000Z</td>\n",
       "      <td>...</td>\n",
       "      <td>True</td>\n",
       "      <td>NaN</td>\n",
       "      <td>0.0</td>\n",
       "      <td>4.0</td>\n",
       "      <td>http://reviews.bestbuy.com/3545/5620406/review...</td>\n",
       "      <td>I've had my Fire HD 8 two weeks now and I love...</td>\n",
       "      <td>Good!!!</td>\n",
       "      <td>NaN</td>\n",
       "      <td>NaN</td>\n",
       "      <td>Shacks</td>\n",
       "    </tr>\n",
       "    <tr>\n",
       "      <th>4</th>\n",
       "      <td>AVqkIhwDv8e3D1O-lebb</td>\n",
       "      <td>All-New Fire HD 8 Tablet, 8 HD Display, Wi-Fi,...</td>\n",
       "      <td>B01AHB9CN2</td>\n",
       "      <td>Amazon</td>\n",
       "      <td>Electronics,iPad &amp; Tablets,All Tablets,Fire Ta...</td>\n",
       "      <td>841667104676,amazon/53004484,amazon/b01ahb9cn2...</td>\n",
       "      <td>Amazon</td>\n",
       "      <td>2017-01-12T00:00:00.000Z</td>\n",
       "      <td>2017-07-03T23:33:15Z</td>\n",
       "      <td>2017-06-07T09:04:00.000Z,2017-04-30T00:45:00.000Z</td>\n",
       "      <td>...</td>\n",
       "      <td>True</td>\n",
       "      <td>NaN</td>\n",
       "      <td>0.0</td>\n",
       "      <td>5.0</td>\n",
       "      <td>http://reviews.bestbuy.com/3545/5620406/review...</td>\n",
       "      <td>I bought this for my grand daughter when she c...</td>\n",
       "      <td>Fantastic Tablet for kids</td>\n",
       "      <td>NaN</td>\n",
       "      <td>NaN</td>\n",
       "      <td>explore42</td>\n",
       "    </tr>\n",
       "    <tr>\n",
       "      <th>...</th>\n",
       "      <td>...</td>\n",
       "      <td>...</td>\n",
       "      <td>...</td>\n",
       "      <td>...</td>\n",
       "      <td>...</td>\n",
       "      <td>...</td>\n",
       "      <td>...</td>\n",
       "      <td>...</td>\n",
       "      <td>...</td>\n",
       "      <td>...</td>\n",
       "      <td>...</td>\n",
       "      <td>...</td>\n",
       "      <td>...</td>\n",
       "      <td>...</td>\n",
       "      <td>...</td>\n",
       "      <td>...</td>\n",
       "      <td>...</td>\n",
       "      <td>...</td>\n",
       "      <td>...</td>\n",
       "      <td>...</td>\n",
       "      <td>...</td>\n",
       "    </tr>\n",
       "    <tr>\n",
       "      <th>34655</th>\n",
       "      <td>AVpfiBlyLJeJML43-4Tp</td>\n",
       "      <td>NaN</td>\n",
       "      <td>B006GWO5WK</td>\n",
       "      <td>Amazon</td>\n",
       "      <td>Computers/Tablets &amp; Networking,Tablet &amp; eBook ...</td>\n",
       "      <td>newamazonkindlefirehd9wpowerfastadaptercharger...</td>\n",
       "      <td>Amazon Digital Services, Inc</td>\n",
       "      <td>2012-09-18T00:00:00Z</td>\n",
       "      <td>NaN</td>\n",
       "      <td>2015-08-29T00:00:00Z</td>\n",
       "      <td>...</td>\n",
       "      <td>NaN</td>\n",
       "      <td>NaN</td>\n",
       "      <td>NaN</td>\n",
       "      <td>3.0</td>\n",
       "      <td>http://www.amazon.com/Amazon-PowerFast-Adapter...</td>\n",
       "      <td>This is not appreciably faster than any other ...</td>\n",
       "      <td>Not appreciably faster than any other 1.8A cha...</td>\n",
       "      <td>NaN</td>\n",
       "      <td>NaN</td>\n",
       "      <td>Kris</td>\n",
       "    </tr>\n",
       "    <tr>\n",
       "      <th>34656</th>\n",
       "      <td>AVpfiBlyLJeJML43-4Tp</td>\n",
       "      <td>NaN</td>\n",
       "      <td>B006GWO5WK</td>\n",
       "      <td>Amazon</td>\n",
       "      <td>Computers/Tablets &amp; Networking,Tablet &amp; eBook ...</td>\n",
       "      <td>newamazonkindlefirehd9wpowerfastadaptercharger...</td>\n",
       "      <td>Amazon Digital Services, Inc</td>\n",
       "      <td>2012-11-21T00:00:00Z</td>\n",
       "      <td>NaN</td>\n",
       "      <td>2015-09-02T00:00:00Z</td>\n",
       "      <td>...</td>\n",
       "      <td>NaN</td>\n",
       "      <td>NaN</td>\n",
       "      <td>NaN</td>\n",
       "      <td>1.0</td>\n",
       "      <td>http://www.amazon.com/Amazon-PowerFast-Adapter...</td>\n",
       "      <td>Amazon should include this charger with the Ki...</td>\n",
       "      <td>Should be included</td>\n",
       "      <td>NaN</td>\n",
       "      <td>NaN</td>\n",
       "      <td>Jonathan Stewart</td>\n",
       "    </tr>\n",
       "    <tr>\n",
       "      <th>34657</th>\n",
       "      <td>AVpfiBlyLJeJML43-4Tp</td>\n",
       "      <td>NaN</td>\n",
       "      <td>B006GWO5WK</td>\n",
       "      <td>Amazon</td>\n",
       "      <td>Computers/Tablets &amp; Networking,Tablet &amp; eBook ...</td>\n",
       "      <td>newamazonkindlefirehd9wpowerfastadaptercharger...</td>\n",
       "      <td>Amazon Digital Services, Inc</td>\n",
       "      <td>2012-10-19T00:00:00Z</td>\n",
       "      <td>NaN</td>\n",
       "      <td>2015-09-04T00:00:00Z</td>\n",
       "      <td>...</td>\n",
       "      <td>NaN</td>\n",
       "      <td>NaN</td>\n",
       "      <td>NaN</td>\n",
       "      <td>1.0</td>\n",
       "      <td>http://www.amazon.com/Amazon-PowerFast-Adapter...</td>\n",
       "      <td>Love my Kindle Fire but I am really disappoint...</td>\n",
       "      <td>Disappointing Charger</td>\n",
       "      <td>NaN</td>\n",
       "      <td>NaN</td>\n",
       "      <td>J Lawson</td>\n",
       "    </tr>\n",
       "    <tr>\n",
       "      <th>34658</th>\n",
       "      <td>AVpfiBlyLJeJML43-4Tp</td>\n",
       "      <td>NaN</td>\n",
       "      <td>B006GWO5WK</td>\n",
       "      <td>Amazon</td>\n",
       "      <td>Computers/Tablets &amp; Networking,Tablet &amp; eBook ...</td>\n",
       "      <td>newamazonkindlefirehd9wpowerfastadaptercharger...</td>\n",
       "      <td>Amazon Digital Services, Inc</td>\n",
       "      <td>2012-10-31T00:00:00Z</td>\n",
       "      <td>NaN</td>\n",
       "      <td>2015-09-01T00:00:00Z</td>\n",
       "      <td>...</td>\n",
       "      <td>NaN</td>\n",
       "      <td>NaN</td>\n",
       "      <td>NaN</td>\n",
       "      <td>1.0</td>\n",
       "      <td>http://www.amazon.com/Amazon-PowerFast-Adapter...</td>\n",
       "      <td>I was surprised to find it did not come with a...</td>\n",
       "      <td>Not worth the money</td>\n",
       "      <td>NaN</td>\n",
       "      <td>NaN</td>\n",
       "      <td>Just the Buyer</td>\n",
       "    </tr>\n",
       "    <tr>\n",
       "      <th>34659</th>\n",
       "      <td>AVpfiBlyLJeJML43-4Tp</td>\n",
       "      <td>NaN</td>\n",
       "      <td>B006GWO5WK</td>\n",
       "      <td>Amazon</td>\n",
       "      <td>Computers/Tablets &amp; Networking,Tablet &amp; eBook ...</td>\n",
       "      <td>newamazonkindlefirehd9wpowerfastadaptercharger...</td>\n",
       "      <td>Amazon Digital Services, Inc</td>\n",
       "      <td>2012-12-23T00:00:00Z</td>\n",
       "      <td>NaN</td>\n",
       "      <td>2015-11-01T00:00:00Z</td>\n",
       "      <td>...</td>\n",
       "      <td>NaN</td>\n",
       "      <td>NaN</td>\n",
       "      <td>NaN</td>\n",
       "      <td>1.0</td>\n",
       "      <td>http://www.amazon.com/Amazon-PowerFast-Adapter...</td>\n",
       "      <td>to spite the fact that i have nothing but good...</td>\n",
       "      <td>as with everyone else</td>\n",
       "      <td>NaN</td>\n",
       "      <td>NaN</td>\n",
       "      <td>sandi</td>\n",
       "    </tr>\n",
       "  </tbody>\n",
       "</table>\n",
       "<p>34660 rows × 21 columns</p>\n",
       "</div>"
      ],
      "text/plain": [
       "                         id  \\\n",
       "0      AVqkIhwDv8e3D1O-lebb   \n",
       "1      AVqkIhwDv8e3D1O-lebb   \n",
       "2      AVqkIhwDv8e3D1O-lebb   \n",
       "3      AVqkIhwDv8e3D1O-lebb   \n",
       "4      AVqkIhwDv8e3D1O-lebb   \n",
       "...                     ...   \n",
       "34655  AVpfiBlyLJeJML43-4Tp   \n",
       "34656  AVpfiBlyLJeJML43-4Tp   \n",
       "34657  AVpfiBlyLJeJML43-4Tp   \n",
       "34658  AVpfiBlyLJeJML43-4Tp   \n",
       "34659  AVpfiBlyLJeJML43-4Tp   \n",
       "\n",
       "                                                    name       asins   brand  \\\n",
       "0      All-New Fire HD 8 Tablet, 8 HD Display, Wi-Fi,...  B01AHB9CN2  Amazon   \n",
       "1      All-New Fire HD 8 Tablet, 8 HD Display, Wi-Fi,...  B01AHB9CN2  Amazon   \n",
       "2      All-New Fire HD 8 Tablet, 8 HD Display, Wi-Fi,...  B01AHB9CN2  Amazon   \n",
       "3      All-New Fire HD 8 Tablet, 8 HD Display, Wi-Fi,...  B01AHB9CN2  Amazon   \n",
       "4      All-New Fire HD 8 Tablet, 8 HD Display, Wi-Fi,...  B01AHB9CN2  Amazon   \n",
       "...                                                  ...         ...     ...   \n",
       "34655                                                NaN  B006GWO5WK  Amazon   \n",
       "34656                                                NaN  B006GWO5WK  Amazon   \n",
       "34657                                                NaN  B006GWO5WK  Amazon   \n",
       "34658                                                NaN  B006GWO5WK  Amazon   \n",
       "34659                                                NaN  B006GWO5WK  Amazon   \n",
       "\n",
       "                                              categories  \\\n",
       "0      Electronics,iPad & Tablets,All Tablets,Fire Ta...   \n",
       "1      Electronics,iPad & Tablets,All Tablets,Fire Ta...   \n",
       "2      Electronics,iPad & Tablets,All Tablets,Fire Ta...   \n",
       "3      Electronics,iPad & Tablets,All Tablets,Fire Ta...   \n",
       "4      Electronics,iPad & Tablets,All Tablets,Fire Ta...   \n",
       "...                                                  ...   \n",
       "34655  Computers/Tablets & Networking,Tablet & eBook ...   \n",
       "34656  Computers/Tablets & Networking,Tablet & eBook ...   \n",
       "34657  Computers/Tablets & Networking,Tablet & eBook ...   \n",
       "34658  Computers/Tablets & Networking,Tablet & eBook ...   \n",
       "34659  Computers/Tablets & Networking,Tablet & eBook ...   \n",
       "\n",
       "                                                    keys  \\\n",
       "0      841667104676,amazon/53004484,amazon/b01ahb9cn2...   \n",
       "1      841667104676,amazon/53004484,amazon/b01ahb9cn2...   \n",
       "2      841667104676,amazon/53004484,amazon/b01ahb9cn2...   \n",
       "3      841667104676,amazon/53004484,amazon/b01ahb9cn2...   \n",
       "4      841667104676,amazon/53004484,amazon/b01ahb9cn2...   \n",
       "...                                                  ...   \n",
       "34655  newamazonkindlefirehd9wpowerfastadaptercharger...   \n",
       "34656  newamazonkindlefirehd9wpowerfastadaptercharger...   \n",
       "34657  newamazonkindlefirehd9wpowerfastadaptercharger...   \n",
       "34658  newamazonkindlefirehd9wpowerfastadaptercharger...   \n",
       "34659  newamazonkindlefirehd9wpowerfastadaptercharger...   \n",
       "\n",
       "                       manufacturer              reviews.date  \\\n",
       "0                            Amazon  2017-01-13T00:00:00.000Z   \n",
       "1                            Amazon  2017-01-13T00:00:00.000Z   \n",
       "2                            Amazon  2017-01-13T00:00:00.000Z   \n",
       "3                            Amazon  2017-01-13T00:00:00.000Z   \n",
       "4                            Amazon  2017-01-12T00:00:00.000Z   \n",
       "...                             ...                       ...   \n",
       "34655  Amazon Digital Services, Inc      2012-09-18T00:00:00Z   \n",
       "34656  Amazon Digital Services, Inc      2012-11-21T00:00:00Z   \n",
       "34657  Amazon Digital Services, Inc      2012-10-19T00:00:00Z   \n",
       "34658  Amazon Digital Services, Inc      2012-10-31T00:00:00Z   \n",
       "34659  Amazon Digital Services, Inc      2012-12-23T00:00:00Z   \n",
       "\n",
       "          reviews.dateAdded  \\\n",
       "0      2017-07-03T23:33:15Z   \n",
       "1      2017-07-03T23:33:15Z   \n",
       "2      2017-07-03T23:33:15Z   \n",
       "3      2017-07-03T23:33:15Z   \n",
       "4      2017-07-03T23:33:15Z   \n",
       "...                     ...   \n",
       "34655                   NaN   \n",
       "34656                   NaN   \n",
       "34657                   NaN   \n",
       "34658                   NaN   \n",
       "34659                   NaN   \n",
       "\n",
       "                                        reviews.dateSeen  ...  \\\n",
       "0      2017-06-07T09:04:00.000Z,2017-04-30T00:45:00.000Z  ...   \n",
       "1      2017-06-07T09:04:00.000Z,2017-04-30T00:45:00.000Z  ...   \n",
       "2      2017-06-07T09:04:00.000Z,2017-04-30T00:45:00.000Z  ...   \n",
       "3      2017-06-07T09:04:00.000Z,2017-04-30T00:45:00.000Z  ...   \n",
       "4      2017-06-07T09:04:00.000Z,2017-04-30T00:45:00.000Z  ...   \n",
       "...                                                  ...  ...   \n",
       "34655                               2015-08-29T00:00:00Z  ...   \n",
       "34656                               2015-09-02T00:00:00Z  ...   \n",
       "34657                               2015-09-04T00:00:00Z  ...   \n",
       "34658                               2015-09-01T00:00:00Z  ...   \n",
       "34659                               2015-11-01T00:00:00Z  ...   \n",
       "\n",
       "      reviews.doRecommend reviews.id  reviews.numHelpful  reviews.rating  \\\n",
       "0                    True        NaN                 0.0             5.0   \n",
       "1                    True        NaN                 0.0             5.0   \n",
       "2                    True        NaN                 0.0             5.0   \n",
       "3                    True        NaN                 0.0             4.0   \n",
       "4                    True        NaN                 0.0             5.0   \n",
       "...                   ...        ...                 ...             ...   \n",
       "34655                 NaN        NaN                 NaN             3.0   \n",
       "34656                 NaN        NaN                 NaN             1.0   \n",
       "34657                 NaN        NaN                 NaN             1.0   \n",
       "34658                 NaN        NaN                 NaN             1.0   \n",
       "34659                 NaN        NaN                 NaN             1.0   \n",
       "\n",
       "                                      reviews.sourceURLs  \\\n",
       "0      http://reviews.bestbuy.com/3545/5620406/review...   \n",
       "1      http://reviews.bestbuy.com/3545/5620406/review...   \n",
       "2      http://reviews.bestbuy.com/3545/5620406/review...   \n",
       "3      http://reviews.bestbuy.com/3545/5620406/review...   \n",
       "4      http://reviews.bestbuy.com/3545/5620406/review...   \n",
       "...                                                  ...   \n",
       "34655  http://www.amazon.com/Amazon-PowerFast-Adapter...   \n",
       "34656  http://www.amazon.com/Amazon-PowerFast-Adapter...   \n",
       "34657  http://www.amazon.com/Amazon-PowerFast-Adapter...   \n",
       "34658  http://www.amazon.com/Amazon-PowerFast-Adapter...   \n",
       "34659  http://www.amazon.com/Amazon-PowerFast-Adapter...   \n",
       "\n",
       "                                            reviews.text  \\\n",
       "0      This product so far has not disappointed. My c...   \n",
       "1      great for beginner or experienced person. Boug...   \n",
       "2      Inexpensive tablet for him to use and learn on...   \n",
       "3      I've had my Fire HD 8 two weeks now and I love...   \n",
       "4      I bought this for my grand daughter when she c...   \n",
       "...                                                  ...   \n",
       "34655  This is not appreciably faster than any other ...   \n",
       "34656  Amazon should include this charger with the Ki...   \n",
       "34657  Love my Kindle Fire but I am really disappoint...   \n",
       "34658  I was surprised to find it did not come with a...   \n",
       "34659  to spite the fact that i have nothing but good...   \n",
       "\n",
       "                                           reviews.title reviews.userCity  \\\n",
       "0                                                 Kindle              NaN   \n",
       "1                                              very fast              NaN   \n",
       "2                Beginner tablet for our 9 year old son.              NaN   \n",
       "3                                                Good!!!              NaN   \n",
       "4                              Fantastic Tablet for kids              NaN   \n",
       "...                                                  ...              ...   \n",
       "34655  Not appreciably faster than any other 1.8A cha...              NaN   \n",
       "34656                                 Should be included              NaN   \n",
       "34657                              Disappointing Charger              NaN   \n",
       "34658                                Not worth the money              NaN   \n",
       "34659                              as with everyone else              NaN   \n",
       "\n",
       "       reviews.userProvince  reviews.username  \n",
       "0                       NaN           Adapter  \n",
       "1                       NaN            truman  \n",
       "2                       NaN             DaveZ  \n",
       "3                       NaN            Shacks  \n",
       "4                       NaN         explore42  \n",
       "...                     ...               ...  \n",
       "34655                   NaN              Kris  \n",
       "34656                   NaN  Jonathan Stewart  \n",
       "34657                   NaN          J Lawson  \n",
       "34658                   NaN    Just the Buyer  \n",
       "34659                   NaN             sandi  \n",
       "\n",
       "[34660 rows x 21 columns]"
      ]
     },
     "execution_count": 11,
     "metadata": {},
     "output_type": "execute_result"
    }
   ],
   "source": [
    "data"
   ]
  },
  {
   "cell_type": "code",
   "execution_count": 12,
   "id": "a9f42332",
   "metadata": {},
   "outputs": [],
   "source": [
    "## lite exploration "
   ]
  },
  {
   "cell_type": "code",
   "execution_count": 13,
   "id": "47cd8a2f",
   "metadata": {},
   "outputs": [
    {
     "name": "stdout",
     "output_type": "stream",
     "text": [
      "<class 'pandas.core.frame.DataFrame'>\n",
      "RangeIndex: 34660 entries, 0 to 34659\n",
      "Data columns (total 21 columns):\n",
      " #   Column                Non-Null Count  Dtype  \n",
      "---  ------                --------------  -----  \n",
      " 0   id                    34660 non-null  object \n",
      " 1   name                  27900 non-null  object \n",
      " 2   asins                 34658 non-null  object \n",
      " 3   brand                 34660 non-null  object \n",
      " 4   categories            34660 non-null  object \n",
      " 5   keys                  34660 non-null  object \n",
      " 6   manufacturer          34660 non-null  object \n",
      " 7   reviews.date          34621 non-null  object \n",
      " 8   reviews.dateAdded     24039 non-null  object \n",
      " 9   reviews.dateSeen      34660 non-null  object \n",
      " 10  reviews.didPurchase   1 non-null      object \n",
      " 11  reviews.doRecommend   34066 non-null  object \n",
      " 12  reviews.id            1 non-null      float64\n",
      " 13  reviews.numHelpful    34131 non-null  float64\n",
      " 14  reviews.rating        34627 non-null  float64\n",
      " 15  reviews.sourceURLs    34660 non-null  object \n",
      " 16  reviews.text          34659 non-null  object \n",
      " 17  reviews.title         34655 non-null  object \n",
      " 18  reviews.userCity      0 non-null      float64\n",
      " 19  reviews.userProvince  0 non-null      float64\n",
      " 20  reviews.username      34658 non-null  object \n",
      "dtypes: float64(5), object(16)\n",
      "memory usage: 5.6+ MB\n"
     ]
    }
   ],
   "source": [
    "data.info()"
   ]
  },
  {
   "cell_type": "code",
   "execution_count": 14,
   "id": "56aa7f76",
   "metadata": {},
   "outputs": [
    {
     "data": {
      "text/html": [
       "<div>\n",
       "<style scoped>\n",
       "    .dataframe tbody tr th:only-of-type {\n",
       "        vertical-align: middle;\n",
       "    }\n",
       "\n",
       "    .dataframe tbody tr th {\n",
       "        vertical-align: top;\n",
       "    }\n",
       "\n",
       "    .dataframe thead th {\n",
       "        text-align: right;\n",
       "    }\n",
       "</style>\n",
       "<table border=\"1\" class=\"dataframe\">\n",
       "  <thead>\n",
       "    <tr style=\"text-align: right;\">\n",
       "      <th></th>\n",
       "      <th>reviews.id</th>\n",
       "      <th>reviews.numHelpful</th>\n",
       "      <th>reviews.rating</th>\n",
       "      <th>reviews.userCity</th>\n",
       "      <th>reviews.userProvince</th>\n",
       "    </tr>\n",
       "  </thead>\n",
       "  <tbody>\n",
       "    <tr>\n",
       "      <th>count</th>\n",
       "      <td>1.0</td>\n",
       "      <td>34131.000000</td>\n",
       "      <td>34627.000000</td>\n",
       "      <td>0.0</td>\n",
       "      <td>0.0</td>\n",
       "    </tr>\n",
       "    <tr>\n",
       "      <th>mean</th>\n",
       "      <td>111372787.0</td>\n",
       "      <td>0.630248</td>\n",
       "      <td>4.584573</td>\n",
       "      <td>NaN</td>\n",
       "      <td>NaN</td>\n",
       "    </tr>\n",
       "    <tr>\n",
       "      <th>std</th>\n",
       "      <td>NaN</td>\n",
       "      <td>13.215775</td>\n",
       "      <td>0.735653</td>\n",
       "      <td>NaN</td>\n",
       "      <td>NaN</td>\n",
       "    </tr>\n",
       "    <tr>\n",
       "      <th>min</th>\n",
       "      <td>111372787.0</td>\n",
       "      <td>0.000000</td>\n",
       "      <td>1.000000</td>\n",
       "      <td>NaN</td>\n",
       "      <td>NaN</td>\n",
       "    </tr>\n",
       "    <tr>\n",
       "      <th>25%</th>\n",
       "      <td>111372787.0</td>\n",
       "      <td>0.000000</td>\n",
       "      <td>4.000000</td>\n",
       "      <td>NaN</td>\n",
       "      <td>NaN</td>\n",
       "    </tr>\n",
       "    <tr>\n",
       "      <th>50%</th>\n",
       "      <td>111372787.0</td>\n",
       "      <td>0.000000</td>\n",
       "      <td>5.000000</td>\n",
       "      <td>NaN</td>\n",
       "      <td>NaN</td>\n",
       "    </tr>\n",
       "    <tr>\n",
       "      <th>75%</th>\n",
       "      <td>111372787.0</td>\n",
       "      <td>0.000000</td>\n",
       "      <td>5.000000</td>\n",
       "      <td>NaN</td>\n",
       "      <td>NaN</td>\n",
       "    </tr>\n",
       "    <tr>\n",
       "      <th>max</th>\n",
       "      <td>111372787.0</td>\n",
       "      <td>814.000000</td>\n",
       "      <td>5.000000</td>\n",
       "      <td>NaN</td>\n",
       "      <td>NaN</td>\n",
       "    </tr>\n",
       "  </tbody>\n",
       "</table>\n",
       "</div>"
      ],
      "text/plain": [
       "        reviews.id  reviews.numHelpful  reviews.rating  reviews.userCity  \\\n",
       "count          1.0        34131.000000    34627.000000               0.0   \n",
       "mean   111372787.0            0.630248        4.584573               NaN   \n",
       "std            NaN           13.215775        0.735653               NaN   \n",
       "min    111372787.0            0.000000        1.000000               NaN   \n",
       "25%    111372787.0            0.000000        4.000000               NaN   \n",
       "50%    111372787.0            0.000000        5.000000               NaN   \n",
       "75%    111372787.0            0.000000        5.000000               NaN   \n",
       "max    111372787.0          814.000000        5.000000               NaN   \n",
       "\n",
       "       reviews.userProvince  \n",
       "count                   0.0  \n",
       "mean                    NaN  \n",
       "std                     NaN  \n",
       "min                     NaN  \n",
       "25%                     NaN  \n",
       "50%                     NaN  \n",
       "75%                     NaN  \n",
       "max                     NaN  "
      ]
     },
     "execution_count": 14,
     "metadata": {},
     "output_type": "execute_result"
    }
   ],
   "source": [
    "data.describe()"
   ]
  },
  {
   "cell_type": "code",
   "execution_count": 15,
   "id": "974bd1be",
   "metadata": {},
   "outputs": [
    {
     "data": {
      "text/plain": [
       "Index(['id', 'name', 'asins', 'brand', 'categories', 'keys', 'manufacturer',\n",
       "       'reviews.date', 'reviews.dateAdded', 'reviews.dateSeen',\n",
       "       'reviews.didPurchase', 'reviews.doRecommend', 'reviews.id',\n",
       "       'reviews.numHelpful', 'reviews.rating', 'reviews.sourceURLs',\n",
       "       'reviews.text', 'reviews.title', 'reviews.userCity',\n",
       "       'reviews.userProvince', 'reviews.username'],\n",
       "      dtype='object')"
      ]
     },
     "execution_count": 15,
     "metadata": {},
     "output_type": "execute_result"
    }
   ],
   "source": [
    "data.columns"
   ]
  },
  {
   "cell_type": "code",
   "execution_count": 16,
   "id": "3b859320",
   "metadata": {},
   "outputs": [],
   "source": [
    "## selecting the columns for further analysis \n",
    "# text and rating "
   ]
  },
  {
   "cell_type": "code",
   "execution_count": 17,
   "id": "eba2abe4",
   "metadata": {},
   "outputs": [],
   "source": [
    "## EDA "
   ]
  },
  {
   "cell_type": "code",
   "execution_count": 18,
   "id": "c52f8555",
   "metadata": {},
   "outputs": [
    {
     "data": {
      "text/html": [
       "<div>\n",
       "<style scoped>\n",
       "    .dataframe tbody tr th:only-of-type {\n",
       "        vertical-align: middle;\n",
       "    }\n",
       "\n",
       "    .dataframe tbody tr th {\n",
       "        vertical-align: top;\n",
       "    }\n",
       "\n",
       "    .dataframe thead th {\n",
       "        text-align: right;\n",
       "    }\n",
       "</style>\n",
       "<table border=\"1\" class=\"dataframe\">\n",
       "  <thead>\n",
       "    <tr style=\"text-align: right;\">\n",
       "      <th></th>\n",
       "      <th>reviews.text</th>\n",
       "      <th>reviews.rating</th>\n",
       "    </tr>\n",
       "  </thead>\n",
       "  <tbody>\n",
       "    <tr>\n",
       "      <th>21536</th>\n",
       "      <td>Bought as a Mother's Day Gift. This is great f...</td>\n",
       "      <td>4.0</td>\n",
       "    </tr>\n",
       "    <tr>\n",
       "      <th>20669</th>\n",
       "      <td>I can hold this next to my Kindle Paperwhite a...</td>\n",
       "      <td>5.0</td>\n",
       "    </tr>\n",
       "    <tr>\n",
       "      <th>30656</th>\n",
       "      <td>Love this device and went on to buy 2 as gifts...</td>\n",
       "      <td>5.0</td>\n",
       "    </tr>\n",
       "    <tr>\n",
       "      <th>25297</th>\n",
       "      <td>With some technical savvy, you can quickly hav...</td>\n",
       "      <td>5.0</td>\n",
       "    </tr>\n",
       "    <tr>\n",
       "      <th>9016</th>\n",
       "      <td>bought for grandkids they love them. wise choi...</td>\n",
       "      <td>5.0</td>\n",
       "    </tr>\n",
       "  </tbody>\n",
       "</table>\n",
       "</div>"
      ],
      "text/plain": [
       "                                            reviews.text  reviews.rating\n",
       "21536  Bought as a Mother's Day Gift. This is great f...             4.0\n",
       "20669  I can hold this next to my Kindle Paperwhite a...             5.0\n",
       "30656  Love this device and went on to buy 2 as gifts...             5.0\n",
       "25297  With some technical savvy, you can quickly hav...             5.0\n",
       "9016   bought for grandkids they love them. wise choi...             5.0"
      ]
     },
     "execution_count": 18,
     "metadata": {},
     "output_type": "execute_result"
    }
   ],
   "source": [
    "data1 = data[[\"reviews.text\",\"reviews.rating\"]].sample(10000,random_state=23)\n",
    "data1.head()"
   ]
  },
  {
   "cell_type": "code",
   "execution_count": 19,
   "id": "f891f80b",
   "metadata": {},
   "outputs": [
    {
     "name": "stdout",
     "output_type": "stream",
     "text": [
      "<class 'pandas.core.frame.DataFrame'>\n",
      "Int64Index: 10000 entries, 21536 to 29020\n",
      "Data columns (total 2 columns):\n",
      " #   Column          Non-Null Count  Dtype  \n",
      "---  ------          --------------  -----  \n",
      " 0   reviews.text    10000 non-null  object \n",
      " 1   reviews.rating  9993 non-null   float64\n",
      "dtypes: float64(1), object(1)\n",
      "memory usage: 234.4+ KB\n"
     ]
    }
   ],
   "source": [
    "data1.info()"
   ]
  },
  {
   "cell_type": "code",
   "execution_count": 20,
   "id": "7fbe2c4a",
   "metadata": {},
   "outputs": [
    {
     "data": {
      "text/plain": [
       "reviews.text      0\n",
       "reviews.rating    0\n",
       "dtype: int64"
      ]
     },
     "execution_count": 20,
     "metadata": {},
     "output_type": "execute_result"
    }
   ],
   "source": [
    "# drop missing values\n",
    "data1.dropna(inplace=True)\n",
    "data1.isnull().sum()"
   ]
  },
  {
   "cell_type": "code",
   "execution_count": 21,
   "id": "292d1317",
   "metadata": {},
   "outputs": [
    {
     "data": {
      "text/html": [
       "<div>\n",
       "<style scoped>\n",
       "    .dataframe tbody tr th:only-of-type {\n",
       "        vertical-align: middle;\n",
       "    }\n",
       "\n",
       "    .dataframe tbody tr th {\n",
       "        vertical-align: top;\n",
       "    }\n",
       "\n",
       "    .dataframe thead th {\n",
       "        text-align: right;\n",
       "    }\n",
       "</style>\n",
       "<table border=\"1\" class=\"dataframe\">\n",
       "  <thead>\n",
       "    <tr style=\"text-align: right;\">\n",
       "      <th></th>\n",
       "      <th>reviews.rating</th>\n",
       "    </tr>\n",
       "  </thead>\n",
       "  <tbody>\n",
       "    <tr>\n",
       "      <th>count</th>\n",
       "      <td>9993.000000</td>\n",
       "    </tr>\n",
       "    <tr>\n",
       "      <th>mean</th>\n",
       "      <td>4.591414</td>\n",
       "    </tr>\n",
       "    <tr>\n",
       "      <th>std</th>\n",
       "      <td>0.725462</td>\n",
       "    </tr>\n",
       "    <tr>\n",
       "      <th>min</th>\n",
       "      <td>1.000000</td>\n",
       "    </tr>\n",
       "    <tr>\n",
       "      <th>25%</th>\n",
       "      <td>4.000000</td>\n",
       "    </tr>\n",
       "    <tr>\n",
       "      <th>50%</th>\n",
       "      <td>5.000000</td>\n",
       "    </tr>\n",
       "    <tr>\n",
       "      <th>75%</th>\n",
       "      <td>5.000000</td>\n",
       "    </tr>\n",
       "    <tr>\n",
       "      <th>max</th>\n",
       "      <td>5.000000</td>\n",
       "    </tr>\n",
       "  </tbody>\n",
       "</table>\n",
       "</div>"
      ],
      "text/plain": [
       "       reviews.rating\n",
       "count     9993.000000\n",
       "mean         4.591414\n",
       "std          0.725462\n",
       "min          1.000000\n",
       "25%          4.000000\n",
       "50%          5.000000\n",
       "75%          5.000000\n",
       "max          5.000000"
      ]
     },
     "execution_count": 21,
     "metadata": {},
     "output_type": "execute_result"
    }
   ],
   "source": [
    "# descriptive statistics\n",
    "data1.describe()"
   ]
  },
  {
   "cell_type": "code",
   "execution_count": 22,
   "id": "8cc7287f",
   "metadata": {},
   "outputs": [
    {
     "data": {
      "text/plain": [
       "5.0    6891\n",
       "4.0    2455\n",
       "3.0     420\n",
       "2.0     120\n",
       "1.0     107\n",
       "Name: reviews.rating, dtype: int64"
      ]
     },
     "execution_count": 22,
     "metadata": {},
     "output_type": "execute_result"
    }
   ],
   "source": [
    "# distribution of rating\n",
    "data1['reviews.rating'].value_counts().sort_index(ascending=False)"
   ]
  },
  {
   "cell_type": "code",
   "execution_count": 23,
   "id": "b63128cf",
   "metadata": {},
   "outputs": [
    {
     "data": {
      "image/png": "[encoded data removed]",
      "text/plain": [
       "<Figure size 640x480 with 1 Axes>"
      ]
     },
     "metadata": {},
     "output_type": "display_data"
    }
   ],
   "source": [
    "# distribution of rating\n",
    "sns.countplot(data1['reviews.rating'], palette='Blues')\n",
    "\n",
    "plt.title('Distribution of rating scores')\n",
    "plt.xlabel('Rating')\n",
    "plt.ylabel('Count')\n",
    "plt.show()"
   ]
  },
  {
   "cell_type": "code",
   "execution_count": 24,
   "id": "febe9436",
   "metadata": {},
   "outputs": [],
   "source": [
    "data5 = data1[data1['reviews.rating']==5].sample(800,random_state=43)\n",
    "data4 = data1[data1['reviews.rating']==4].sample(200,random_state=43)\n",
    "data3 = data1[data1['reviews.rating']==3]\n",
    "data2 = data1[data1['reviews.rating']==2]\n",
    "Data = data1[data1['reviews.rating']==1]\n",
    "\n",
    "data1 = pd.concat([data5,data4,data3,data3,data2,Data])"
   ]
  },
  {
   "cell_type": "code",
   "execution_count": 25,
   "id": "165963e4",
   "metadata": {},
   "outputs": [
    {
     "data": {
      "text/plain": [
       "5.0    800\n",
       "4.0    200\n",
       "3.0    840\n",
       "2.0    120\n",
       "1.0    107\n",
       "Name: reviews.rating, dtype: int64"
      ]
     },
     "execution_count": 25,
     "metadata": {},
     "output_type": "execute_result"
    }
   ],
   "source": [
    "# distribution of rating\n",
    "data1['reviews.rating'].value_counts().sort_index(ascending=False)"
   ]
  },
  {
   "cell_type": "code",
   "execution_count": 26,
   "id": "14b6ca24",
   "metadata": {},
   "outputs": [
    {
     "data": {
      "image/png": "[encoded data removed]",
      "text/plain": [
       "<Figure size 640x480 with 1 Axes>"
      ]
     },
     "metadata": {},
     "output_type": "display_data"
    }
   ],
   "source": [
    "# distribution of rating\n",
    "sns.countplot(data1['reviews.rating'], palette='Blues')\n",
    "\n",
    "plt.title('Distribution of rating scores')\n",
    "plt.xlabel('Rating')\n",
    "plt.ylabel('Count')\n",
    "plt.show()"
   ]
  },
  {
   "cell_type": "code",
   "execution_count": 27,
   "id": "fed8d3ff",
   "metadata": {},
   "outputs": [
    {
     "data": {
      "text/html": [
       "<div>\n",
       "<style scoped>\n",
       "    .dataframe tbody tr th:only-of-type {\n",
       "        vertical-align: middle;\n",
       "    }\n",
       "\n",
       "    .dataframe tbody tr th {\n",
       "        vertical-align: top;\n",
       "    }\n",
       "\n",
       "    .dataframe thead th {\n",
       "        text-align: right;\n",
       "    }\n",
       "</style>\n",
       "<table border=\"1\" class=\"dataframe\">\n",
       "  <thead>\n",
       "    <tr style=\"text-align: right;\">\n",
       "      <th></th>\n",
       "      <th>reviews.text</th>\n",
       "      <th>reviews.rating</th>\n",
       "      <th>sentiment_score</th>\n",
       "      <th>sentiment</th>\n",
       "    </tr>\n",
       "  </thead>\n",
       "  <tbody>\n",
       "    <tr>\n",
       "      <th>23299</th>\n",
       "      <td>The product was easy to set up, and is easy to...</td>\n",
       "      <td>5.0</td>\n",
       "      <td>1</td>\n",
       "      <td>POSITIVE</td>\n",
       "    </tr>\n",
       "    <tr>\n",
       "      <th>10583</th>\n",
       "      <td>I came in to Best Buy to get a game for my BF ...</td>\n",
       "      <td>5.0</td>\n",
       "      <td>1</td>\n",
       "      <td>POSITIVE</td>\n",
       "    </tr>\n",
       "    <tr>\n",
       "      <th>5018</th>\n",
       "      <td>Bought this for my toddler and teen they both ...</td>\n",
       "      <td>5.0</td>\n",
       "      <td>1</td>\n",
       "      <td>POSITIVE</td>\n",
       "    </tr>\n",
       "    <tr>\n",
       "      <th>30580</th>\n",
       "      <td>The product works great. If you need help usin...</td>\n",
       "      <td>5.0</td>\n",
       "      <td>1</td>\n",
       "      <td>POSITIVE</td>\n",
       "    </tr>\n",
       "    <tr>\n",
       "      <th>185</th>\n",
       "      <td>It may be cheap but this is a great tablet and...</td>\n",
       "      <td>5.0</td>\n",
       "      <td>1</td>\n",
       "      <td>POSITIVE</td>\n",
       "    </tr>\n",
       "  </tbody>\n",
       "</table>\n",
       "</div>"
      ],
      "text/plain": [
       "                                            reviews.text  reviews.rating  \\\n",
       "23299  The product was easy to set up, and is easy to...             5.0   \n",
       "10583  I came in to Best Buy to get a game for my BF ...             5.0   \n",
       "5018   Bought this for my toddler and teen they both ...             5.0   \n",
       "30580  The product works great. If you need help usin...             5.0   \n",
       "185    It may be cheap but this is a great tablet and...             5.0   \n",
       "\n",
       "       sentiment_score sentiment  \n",
       "23299                1  POSITIVE  \n",
       "10583                1  POSITIVE  \n",
       "5018                 1  POSITIVE  \n",
       "30580                1  POSITIVE  \n",
       "185                  1  POSITIVE  "
      ]
     },
     "execution_count": 27,
     "metadata": {},
     "output_type": "execute_result"
    }
   ],
   "source": [
    "# map ratings 1, 2, 3 to 0 (NEGATIVE) and 4, 5 to 1 (POSITIVE) \n",
    "sentiment_score = {1: 0,\n",
    "                   2: 0,\n",
    "                   3: 0,\n",
    "                   4: 1,\n",
    "                   5: 1}\n",
    "\n",
    "sentiment = {0: 'NEGATIVE',\n",
    "             1: 'POSITIVE'}\n",
    "\n",
    "\n",
    "# mapping\n",
    "data1['sentiment_score'] = data1['reviews.rating'].map(sentiment_score)\n",
    "data1['sentiment'] = data1['sentiment_score'].map(sentiment)\n",
    "\n",
    "data1.head()"
   ]
  },
  {
   "cell_type": "code",
   "execution_count": 28,
   "id": "ee6ea614",
   "metadata": {},
   "outputs": [
    {
     "data": {
      "text/plain": [
       "0    1067\n",
       "1    1000\n",
       "Name: sentiment_score, dtype: int64"
      ]
     },
     "execution_count": 28,
     "metadata": {},
     "output_type": "execute_result"
    }
   ],
   "source": [
    "data1['sentiment_score'].value_counts()"
   ]
  },
  {
   "cell_type": "code",
   "execution_count": 29,
   "id": "77fe1687",
   "metadata": {},
   "outputs": [
    {
     "data": {
      "image/png": "[encoded data removed]",
      "text/plain": [
       "<Figure size 800x800 with 1 Axes>"
      ]
     },
     "metadata": {},
     "output_type": "display_data"
    }
   ],
   "source": [
    "# distribution of sentiment\n",
    "plt.figure(figsize = (8, 8))\n",
    "\n",
    "labels = ['NEGATIVE','POSITIVE']\n",
    "colors = ['#189AB4', '#D4F1F4']\n",
    "plt.pie(data1['sentiment'].value_counts(), autopct='%0.2f%%',colors=colors)\n",
    "\n",
    "plt.title('Distribution of sentiment', size=14, y=-0.01)\n",
    "plt.legend(labels, ncol=2, loc=9)\n",
    "plt.show()"
   ]
  },
  {
   "cell_type": "code",
   "execution_count": 30,
   "id": "2b6e10b4",
   "metadata": {},
   "outputs": [],
   "source": [
    "## text processing "
   ]
  },
  {
   "cell_type": "code",
   "execution_count": 31,
   "id": "2317258f",
   "metadata": {},
   "outputs": [],
   "source": [
    "## cleaning the text "
   ]
  },
  {
   "cell_type": "code",
   "execution_count": 32,
   "id": "1b7f3f30",
   "metadata": {},
   "outputs": [],
   "source": [
    "def clean_text(text:str):\n",
    "    \"\"\" Return cleaned text:\n",
    "            - lowercase\n",
    "            - remove whitespaces\n",
    "            - remove HTML tags\n",
    "            - replace digit with spaces\n",
    "            - replace punctuations with spaces\n",
    "            - remove extra spaces and tabs\n",
    "        ------\n",
    "        input: text (str)    \n",
    "        output: cleaned text (str)\n",
    "    \"\"\"\n",
    "    text = str(text)\n",
    "    \n",
    "    text = text.lower()\n",
    "    text = text.strip()\n",
    "    \n",
    "    text = re.sub(' \\d+', ' ', text)\n",
    "    text = re.compile('<.*?>').sub('', text)\n",
    "    text = re.compile('[%s]' % re.escape(string.punctuation)).sub(' ', text)\n",
    "    text = re.sub('\\s+', ' ', text)\n",
    "    \n",
    "    text = text.strip()\n",
    "    \n",
    "    return text"
   ]
  },
  {
   "cell_type": "code",
   "execution_count": 33,
   "id": "3e382bc2",
   "metadata": {},
   "outputs": [
    {
     "name": "stdout",
     "output_type": "stream",
     "text": [
      "   This is a message to be cleaned. It may involve some things like: <br>, ?, :, ''  26 adjacent spaces and tabs     .   \n",
      "\n"
     ]
    },
    {
     "data": {
      "text/plain": [
       "'this is a message to be cleaned it may involve some things like adjacent spaces and tabs'"
      ]
     },
     "execution_count": 33,
     "metadata": {},
     "output_type": "execute_result"
    }
   ],
   "source": [
    "# test\n",
    "text = \"   This is a message to be cleaned. It may involve some things like: <br>, ?, :, ''  26 adjacent spaces and tabs     .  \"\n",
    "print(text, '\\n')\n",
    "clean_text(text)"
   ]
  },
  {
   "cell_type": "code",
   "execution_count": 34,
   "id": "76a8736a",
   "metadata": {},
   "outputs": [],
   "source": [
    "## removing the stopwords "
   ]
  },
  {
   "cell_type": "code",
   "execution_count": 35,
   "id": "b57531c9",
   "metadata": {},
   "outputs": [],
   "source": [
    "def remove_stopwords(text:str):\n",
    "    \"\"\" Remove stopwords from text:\n",
    "        ------\n",
    "        input: text (str)    \n",
    "        output: cleaned text (str)\n",
    "    \"\"\"\n",
    "    text = str(text)\n",
    "    filtered_sentence = []\n",
    "\n",
    "    # Stop word lists can be adjusted for your problem\n",
    "    stop_words = [\"a\", \"an\", \"the\", \"this\", \"that\", \"is\", \"it\", \"to\", \"and\"]\n",
    "\n",
    "    # Tokenize the sentence\n",
    "    words = word_tokenize(text)\n",
    "    for w in words:\n",
    "        if w not in stop_words:\n",
    "            filtered_sentence.append(w)\n",
    "    text = \" \".join(filtered_sentence)\n",
    "    \n",
    "    return text"
   ]
  },
  {
   "cell_type": "code",
   "execution_count": 36,
   "id": "70e7e2de",
   "metadata": {},
   "outputs": [],
   "source": [
    "\n",
    "import nltk\n",
    "from nltk.corpus import stopwords\n",
    "from nltk.tokenize import word_tokenize\n",
    "from nltk.stem import SnowballStemmer\n",
    "from nltk.corpus import wordnet\n",
    "from nltk import pos_tag\n",
    "from nltk.stem import WordNetLemmatizer"
   ]
  },
  {
   "cell_type": "code",
   "execution_count": 37,
   "id": "5d11c1fd",
   "metadata": {},
   "outputs": [
    {
     "name": "stderr",
     "output_type": "stream",
     "text": [
      "[nltk_data] Downloading package punkt to C:\\Users\\HP/nltk_data...\n",
      "[nltk_data]   Package punkt is already up-to-date!\n"
     ]
    },
    {
     "data": {
      "text/plain": [
       "True"
      ]
     },
     "execution_count": 37,
     "metadata": {},
     "output_type": "execute_result"
    }
   ],
   "source": [
    "nltk.download('punkt')"
   ]
  },
  {
   "cell_type": "code",
   "execution_count": 38,
   "id": "9e7d5088",
   "metadata": {},
   "outputs": [
    {
     "name": "stdout",
     "output_type": "stream",
     "text": [
      "   This is a message to be cleaned. It may involve some things like: <br>, ?, :, ''  26 adjacent spaces and tabs     .   \n",
      "\n"
     ]
    },
    {
     "data": {
      "text/plain": [
       "'message be cleaned may involve some things like adjacent spaces tabs'"
      ]
     },
     "execution_count": 38,
     "metadata": {},
     "output_type": "execute_result"
    }
   ],
   "source": [
    "# test\n",
    "text = \"   This is a message to be cleaned. It may involve some things like: <br>, ?, :, ''  26 adjacent spaces and tabs     .  \"\n",
    "print(text, '\\n')\n",
    "text = clean_text(text)\n",
    "remove_stopwords(text)"
   ]
  },
  {
   "cell_type": "code",
   "execution_count": 39,
   "id": "f07c9758",
   "metadata": {},
   "outputs": [],
   "source": [
    "## stemming "
   ]
  },
  {
   "cell_type": "code",
   "execution_count": 40,
   "id": "ea85efff",
   "metadata": {},
   "outputs": [],
   "source": [
    "def stemm_text(text:str):\n",
    "    \"\"\" Stemm text:\n",
    "    ------\n",
    "    input: text (str)    \n",
    "    output: Stemmed text (str)\n",
    "    \"\"\"\n",
    "    text = str(text)\n",
    "    # Initialize the stemmer\n",
    "    snow = SnowballStemmer('english')\n",
    "\n",
    "    stemmed_sentence = []\n",
    "    # Tokenize the sentence\n",
    "    words = word_tokenize(text)\n",
    "    for w in words:\n",
    "        # Stem the word/token\n",
    "        stemmed_sentence.append(snow.stem(w))\n",
    "    text = \" \".join(stemmed_sentence)\n",
    "    \n",
    "    return text"
   ]
  },
  {
   "cell_type": "code",
   "execution_count": 41,
   "id": "a4651fea",
   "metadata": {},
   "outputs": [
    {
     "name": "stdout",
     "output_type": "stream",
     "text": [
      "   This is a message to be cleaned. It may involve some things like: <br>, ?, :, ''  26 adjacent spaces and tabs     .   \n",
      "\n"
     ]
    },
    {
     "data": {
      "text/plain": [
       "'messag be clean may involv some thing like adjac space tab'"
      ]
     },
     "execution_count": 41,
     "metadata": {},
     "output_type": "execute_result"
    }
   ],
   "source": [
    "# test\n",
    "text = \"   This is a message to be cleaned. It may involve some things like: <br>, ?, :, ''  26 adjacent spaces and tabs     .  \"\n",
    "print(text, '\\n')\n",
    "text = clean_text(text)\n",
    "text = remove_stopwords(text)\n",
    "stemm_text(text)"
   ]
  },
  {
   "cell_type": "code",
   "execution_count": 42,
   "id": "2b945b9d",
   "metadata": {},
   "outputs": [],
   "source": [
    "##  Lemmatization"
   ]
  },
  {
   "cell_type": "code",
   "execution_count": 43,
   "id": "628abdd2",
   "metadata": {},
   "outputs": [],
   "source": [
    "# This is a helper function to map NTLK position tags\n",
    "# Full list is available here: https://www.ling.upenn.edu/courses/Fall_2003/ling001/penn_treebank_pos.html\n",
    "def get_wordnet_pos(tag):\n",
    "    if tag.startswith('J'):\n",
    "        return wordnet.ADJ\n",
    "    elif tag.startswith('V'):\n",
    "        return wordnet.VERB\n",
    "    elif tag.startswith('N'):\n",
    "        return wordnet.NOUN\n",
    "    elif tag.startswith('R'):\n",
    "        return wordnet.ADV\n",
    "    else:\n",
    "        return wordnet.NOUN"
   ]
  },
  {
   "cell_type": "code",
   "execution_count": 44,
   "id": "9356208b",
   "metadata": {},
   "outputs": [
    {
     "name": "stderr",
     "output_type": "stream",
     "text": [
      "[nltk_data] Downloading package averaged_perceptron_tagger to\n",
      "[nltk_data]     C:\\Users\\HP/nltk_data...\n",
      "[nltk_data]   Package averaged_perceptron_tagger is already up-to-\n",
      "[nltk_data]       date!\n"
     ]
    },
    {
     "data": {
      "text/plain": [
       "True"
      ]
     },
     "execution_count": 44,
     "metadata": {},
     "output_type": "execute_result"
    }
   ],
   "source": [
    "nltk.download('averaged_perceptron_tagger')"
   ]
  },
  {
   "cell_type": "code",
   "execution_count": 45,
   "id": "60bfbead",
   "metadata": {},
   "outputs": [],
   "source": [
    "def lemmatize(text:str):\n",
    "    \"\"\" lemmatize text:\n",
    "    ------\n",
    "    input: text (str)    \n",
    "    output: lemmatized text (str)\n",
    "    \"\"\"\n",
    "    text = str(text)\n",
    "    \n",
    "    # Initialize the lemmatizer\n",
    "    wl = WordNetLemmatizer()\n",
    "\n",
    "    lemmatized_sentence = []\n",
    "\n",
    "    # Tokenize the sentence\n",
    "    words = word_tokenize(text)\n",
    "    # Get position tags\n",
    "    word_pos_tags = nltk.pos_tag(words)\n",
    "    # Map the position tag and lemmatize the word/token\n",
    "    for idx, tag in enumerate(word_pos_tags):\n",
    "        lemmatized_sentence.append(wl.lemmatize(tag[0], get_wordnet_pos(tag[1])))\n",
    "\n",
    "    lemmatized_text = \" \".join(lemmatized_sentence)\n",
    "    \n",
    "    return lemmatized_text"
   ]
  },
  {
   "cell_type": "code",
   "execution_count": 46,
   "id": "1074e9cc",
   "metadata": {},
   "outputs": [
    {
     "name": "stderr",
     "output_type": "stream",
     "text": [
      "[nltk_data] Downloading package omw-1.4 to C:\\Users\\HP/nltk_data...\n",
      "[nltk_data]   Package omw-1.4 is already up-to-date!\n"
     ]
    },
    {
     "data": {
      "text/plain": [
       "True"
      ]
     },
     "execution_count": 46,
     "metadata": {},
     "output_type": "execute_result"
    }
   ],
   "source": [
    "nltk.download('omw-1.4')"
   ]
  },
  {
   "cell_type": "code",
   "execution_count": 47,
   "id": "9904b591",
   "metadata": {},
   "outputs": [
    {
     "name": "stderr",
     "output_type": "stream",
     "text": [
      "[nltk_data] Downloading package wordnet to C:\\Users\\HP/nltk_data...\n",
      "[nltk_data]   Package wordnet is already up-to-date!\n"
     ]
    },
    {
     "data": {
      "text/plain": [
       "True"
      ]
     },
     "execution_count": 47,
     "metadata": {},
     "output_type": "execute_result"
    }
   ],
   "source": [
    "nltk.download('wordnet')"
   ]
  },
  {
   "cell_type": "code",
   "execution_count": 48,
   "id": "327f3093",
   "metadata": {},
   "outputs": [
    {
     "name": "stdout",
     "output_type": "stream",
     "text": [
      "   This is a message to be cleaned. It may involve some things like: <br>, ?, :, ''  26 adjacent spaces and tabs     .   \n",
      "\n"
     ]
    },
    {
     "data": {
      "text/plain": [
       "'message be clean may involve some thing like adjacent space tabs'"
      ]
     },
     "execution_count": 48,
     "metadata": {},
     "output_type": "execute_result"
    }
   ],
   "source": [
    "# test\n",
    "text = \"   This is a message to be cleaned. It may involve some things like: <br>, ?, :, ''  26 adjacent spaces and tabs     .  \"\n",
    "print(text, '\\n')\n",
    "text = clean_text(text)\n",
    "text = remove_stopwords(text)\n",
    "# text = stemm_text(text)\n",
    "lemmatize(text)"
   ]
  },
  {
   "cell_type": "code",
   "execution_count": 49,
   "id": "48b809b4",
   "metadata": {},
   "outputs": [],
   "source": [
    "## appling text processing functions "
   ]
  },
  {
   "cell_type": "code",
   "execution_count": 50,
   "id": "173011a9",
   "metadata": {},
   "outputs": [],
   "source": [
    "# clean text\n",
    "data1['text'] = data1['reviews.text'].apply(clean_text)\n",
    "# remove stopwords\n",
    "data1['text'] = data1['text'].apply(remove_stopwords)\n",
    "# lemmatize\n",
    "data1['text'] = data1['text'].apply(lemmatize)"
   ]
  },
  {
   "cell_type": "code",
   "execution_count": 51,
   "id": "39b1e3ef",
   "metadata": {},
   "outputs": [
    {
     "name": "stdout",
     "output_type": "stream",
     "text": [
      "Original review: \n",
      "Great price, great item and high quality, simple to buy on line and pick up\n",
      "\n",
      "Processed review: \n",
      "great price great item high quality simple buy on line pick up\n"
     ]
    }
   ],
   "source": [
    "# check some processed reviews\n",
    "import random\n",
    "\n",
    "i = random.choice(range(len(data1)))\n",
    "\n",
    "print(f\"Original review: \\n{data1['reviews.text'].iloc[i]}\\n\")\n",
    "print(f\"Processed review: \\n{data1['text'].iloc[i]}\")  "
   ]
  },
  {
   "cell_type": "code",
   "execution_count": 52,
   "id": "22c10b9c",
   "metadata": {},
   "outputs": [],
   "source": [
    "# export cleaned data to csv\n",
    "data1.to_csv('cleaned_data.csv', index=False)"
   ]
  },
  {
   "cell_type": "code",
   "execution_count": 53,
   "id": "b33873e2",
   "metadata": {},
   "outputs": [
    {
     "name": "stdout",
     "output_type": "stream",
     "text": [
      "<class 'pandas.core.frame.DataFrame'>\n",
      "RangeIndex: 2067 entries, 0 to 2066\n",
      "Data columns (total 5 columns):\n",
      " #   Column           Non-Null Count  Dtype  \n",
      "---  ------           --------------  -----  \n",
      " 0   reviews.text     2067 non-null   object \n",
      " 1   reviews.rating   2067 non-null   float64\n",
      " 2   sentiment_score  2067 non-null   int64  \n",
      " 3   sentiment        2067 non-null   object \n",
      " 4   text             2067 non-null   object \n",
      "dtypes: float64(1), int64(1), object(3)\n",
      "memory usage: 80.9+ KB\n"
     ]
    }
   ],
   "source": [
    "data1 = pd.read_csv('cleaned_data.csv')\n",
    "data1.info()"
   ]
  },
  {
   "cell_type": "code",
   "execution_count": 54,
   "id": "7dd527c7",
   "metadata": {},
   "outputs": [
    {
     "data": {
      "text/html": [
       "<div>\n",
       "<style scoped>\n",
       "    .dataframe tbody tr th:only-of-type {\n",
       "        vertical-align: middle;\n",
       "    }\n",
       "\n",
       "    .dataframe tbody tr th {\n",
       "        vertical-align: top;\n",
       "    }\n",
       "\n",
       "    .dataframe thead th {\n",
       "        text-align: right;\n",
       "    }\n",
       "</style>\n",
       "<table border=\"1\" class=\"dataframe\">\n",
       "  <thead>\n",
       "    <tr style=\"text-align: right;\">\n",
       "      <th></th>\n",
       "      <th>reviews.text</th>\n",
       "      <th>reviews.rating</th>\n",
       "      <th>sentiment_score</th>\n",
       "      <th>sentiment</th>\n",
       "      <th>text</th>\n",
       "    </tr>\n",
       "  </thead>\n",
       "  <tbody>\n",
       "  </tbody>\n",
       "</table>\n",
       "</div>"
      ],
      "text/plain": [
       "Empty DataFrame\n",
       "Columns: [reviews.text, reviews.rating, sentiment_score, sentiment, text]\n",
       "Index: []"
      ]
     },
     "execution_count": 54,
     "metadata": {},
     "output_type": "execute_result"
    }
   ],
   "source": [
    "data1[data1['text'].isnull()]"
   ]
  },
  {
   "cell_type": "code",
   "execution_count": 55,
   "id": "e64deebc",
   "metadata": {},
   "outputs": [
    {
     "name": "stdout",
     "output_type": "stream",
     "text": [
      "<class 'pandas.core.frame.DataFrame'>\n",
      "RangeIndex: 2067 entries, 0 to 2066\n",
      "Data columns (total 5 columns):\n",
      " #   Column           Non-Null Count  Dtype  \n",
      "---  ------           --------------  -----  \n",
      " 0   reviews.text     2067 non-null   object \n",
      " 1   reviews.rating   2067 non-null   float64\n",
      " 2   sentiment_score  2067 non-null   int64  \n",
      " 3   sentiment        2067 non-null   object \n",
      " 4   text             2067 non-null   object \n",
      "dtypes: float64(1), int64(1), object(3)\n",
      "memory usage: 80.9+ KB\n"
     ]
    }
   ],
   "source": [
    "data1.dropna(inplace=True)\n",
    "data1.info()"
   ]
  },
  {
   "cell_type": "code",
   "execution_count": 56,
   "id": "1327c098",
   "metadata": {},
   "outputs": [],
   "source": [
    "## Feature Engineering and Selection"
   ]
  },
  {
   "cell_type": "code",
   "execution_count": 57,
   "id": "e7c30f07",
   "metadata": {},
   "outputs": [],
   "source": [
    "# using vectorizer "
   ]
  },
  {
   "cell_type": "code",
   "execution_count": 59,
   "id": "6fdf0757",
   "metadata": {},
   "outputs": [
    {
     "data": {
      "text/plain": [
       "array([[0., 0., 0., ..., 0., 0., 0.],\n",
       "       [0., 0., 0., ..., 0., 0., 0.],\n",
       "       [0., 0., 0., ..., 0., 0., 0.],\n",
       "       ...,\n",
       "       [0., 0., 0., ..., 0., 0., 0.],\n",
       "       [0., 0., 0., ..., 0., 0., 0.],\n",
       "       [0., 0., 0., ..., 0., 0., 0.]])"
      ]
     },
     "execution_count": 59,
     "metadata": {},
     "output_type": "execute_result"
    }
   ],
   "source": [
    "vectorizer = TfidfVectorizer(max_features=700)\n",
    "vectorizer.fit(data1['text'])\n",
    "features = vectorizer.transform(data1['text'])\n",
    "\n",
    "features.toarray()"
   ]
  },
  {
   "cell_type": "code",
   "execution_count": 60,
   "id": "b70ac54a",
   "metadata": {},
   "outputs": [
    {
     "data": {
      "text/html": [
       "<div>\n",
       "<style scoped>\n",
       "    .dataframe tbody tr th:only-of-type {\n",
       "        vertical-align: middle;\n",
       "    }\n",
       "\n",
       "    .dataframe tbody tr th {\n",
       "        vertical-align: top;\n",
       "    }\n",
       "\n",
       "    .dataframe thead th {\n",
       "        text-align: right;\n",
       "    }\n",
       "</style>\n",
       "<table border=\"1\" class=\"dataframe\">\n",
       "  <thead>\n",
       "    <tr style=\"text-align: right;\">\n",
       "      <th></th>\n",
       "      <th>50</th>\n",
       "      <th>99</th>\n",
       "      <th>ability</th>\n",
       "      <th>able</th>\n",
       "      <th>about</th>\n",
       "      <th>absolutely</th>\n",
       "      <th>access</th>\n",
       "      <th>account</th>\n",
       "      <th>actually</th>\n",
       "      <th>ad</th>\n",
       "      <th>...</th>\n",
       "      <th>would</th>\n",
       "      <th>wouldn</th>\n",
       "      <th>wrong</th>\n",
       "      <th>year</th>\n",
       "      <th>yet</th>\n",
       "      <th>you</th>\n",
       "      <th>young</th>\n",
       "      <th>your</th>\n",
       "      <th>youtube</th>\n",
       "      <th>yr</th>\n",
       "    </tr>\n",
       "  </thead>\n",
       "  <tbody>\n",
       "    <tr>\n",
       "      <th>0</th>\n",
       "      <td>0.0</td>\n",
       "      <td>0.0</td>\n",
       "      <td>0.0</td>\n",
       "      <td>0.0</td>\n",
       "      <td>0.0</td>\n",
       "      <td>0.0</td>\n",
       "      <td>0.0</td>\n",
       "      <td>0.0</td>\n",
       "      <td>0.0</td>\n",
       "      <td>0.0</td>\n",
       "      <td>...</td>\n",
       "      <td>0.0</td>\n",
       "      <td>0.0</td>\n",
       "      <td>0.0</td>\n",
       "      <td>0.0</td>\n",
       "      <td>0.0</td>\n",
       "      <td>0.000000</td>\n",
       "      <td>0.0</td>\n",
       "      <td>0.0</td>\n",
       "      <td>0.000000</td>\n",
       "      <td>0.0</td>\n",
       "    </tr>\n",
       "    <tr>\n",
       "      <th>1</th>\n",
       "      <td>0.0</td>\n",
       "      <td>0.0</td>\n",
       "      <td>0.0</td>\n",
       "      <td>0.0</td>\n",
       "      <td>0.0</td>\n",
       "      <td>0.0</td>\n",
       "      <td>0.0</td>\n",
       "      <td>0.0</td>\n",
       "      <td>0.0</td>\n",
       "      <td>0.0</td>\n",
       "      <td>...</td>\n",
       "      <td>0.0</td>\n",
       "      <td>0.0</td>\n",
       "      <td>0.0</td>\n",
       "      <td>0.0</td>\n",
       "      <td>0.0</td>\n",
       "      <td>0.000000</td>\n",
       "      <td>0.0</td>\n",
       "      <td>0.0</td>\n",
       "      <td>0.000000</td>\n",
       "      <td>0.0</td>\n",
       "    </tr>\n",
       "    <tr>\n",
       "      <th>2</th>\n",
       "      <td>0.0</td>\n",
       "      <td>0.0</td>\n",
       "      <td>0.0</td>\n",
       "      <td>0.0</td>\n",
       "      <td>0.0</td>\n",
       "      <td>0.0</td>\n",
       "      <td>0.0</td>\n",
       "      <td>0.0</td>\n",
       "      <td>0.0</td>\n",
       "      <td>0.0</td>\n",
       "      <td>...</td>\n",
       "      <td>0.0</td>\n",
       "      <td>0.0</td>\n",
       "      <td>0.0</td>\n",
       "      <td>0.0</td>\n",
       "      <td>0.0</td>\n",
       "      <td>0.000000</td>\n",
       "      <td>0.0</td>\n",
       "      <td>0.0</td>\n",
       "      <td>0.000000</td>\n",
       "      <td>0.0</td>\n",
       "    </tr>\n",
       "    <tr>\n",
       "      <th>3</th>\n",
       "      <td>0.0</td>\n",
       "      <td>0.0</td>\n",
       "      <td>0.0</td>\n",
       "      <td>0.0</td>\n",
       "      <td>0.0</td>\n",
       "      <td>0.0</td>\n",
       "      <td>0.0</td>\n",
       "      <td>0.0</td>\n",
       "      <td>0.0</td>\n",
       "      <td>0.0</td>\n",
       "      <td>...</td>\n",
       "      <td>0.0</td>\n",
       "      <td>0.0</td>\n",
       "      <td>0.0</td>\n",
       "      <td>0.0</td>\n",
       "      <td>0.0</td>\n",
       "      <td>0.204674</td>\n",
       "      <td>0.0</td>\n",
       "      <td>0.0</td>\n",
       "      <td>0.407804</td>\n",
       "      <td>0.0</td>\n",
       "    </tr>\n",
       "    <tr>\n",
       "      <th>4</th>\n",
       "      <td>0.0</td>\n",
       "      <td>0.0</td>\n",
       "      <td>0.0</td>\n",
       "      <td>0.0</td>\n",
       "      <td>0.0</td>\n",
       "      <td>0.0</td>\n",
       "      <td>0.0</td>\n",
       "      <td>0.0</td>\n",
       "      <td>0.0</td>\n",
       "      <td>0.0</td>\n",
       "      <td>...</td>\n",
       "      <td>0.0</td>\n",
       "      <td>0.0</td>\n",
       "      <td>0.0</td>\n",
       "      <td>0.0</td>\n",
       "      <td>0.0</td>\n",
       "      <td>0.000000</td>\n",
       "      <td>0.0</td>\n",
       "      <td>0.0</td>\n",
       "      <td>0.000000</td>\n",
       "      <td>0.0</td>\n",
       "    </tr>\n",
       "  </tbody>\n",
       "</table>\n",
       "<p>5 rows × 700 columns</p>\n",
       "</div>"
      ],
      "text/plain": [
       "    50   99  ability  able  about  absolutely  access  account  actually   ad  \\\n",
       "0  0.0  0.0      0.0   0.0    0.0         0.0     0.0      0.0       0.0  0.0   \n",
       "1  0.0  0.0      0.0   0.0    0.0         0.0     0.0      0.0       0.0  0.0   \n",
       "2  0.0  0.0      0.0   0.0    0.0         0.0     0.0      0.0       0.0  0.0   \n",
       "3  0.0  0.0      0.0   0.0    0.0         0.0     0.0      0.0       0.0  0.0   \n",
       "4  0.0  0.0      0.0   0.0    0.0         0.0     0.0      0.0       0.0  0.0   \n",
       "\n",
       "   ...  would  wouldn  wrong  year  yet       you  young  your   youtube   yr  \n",
       "0  ...    0.0     0.0    0.0   0.0  0.0  0.000000    0.0   0.0  0.000000  0.0  \n",
       "1  ...    0.0     0.0    0.0   0.0  0.0  0.000000    0.0   0.0  0.000000  0.0  \n",
       "2  ...    0.0     0.0    0.0   0.0  0.0  0.000000    0.0   0.0  0.000000  0.0  \n",
       "3  ...    0.0     0.0    0.0   0.0  0.0  0.204674    0.0   0.0  0.407804  0.0  \n",
       "4  ...    0.0     0.0    0.0   0.0  0.0  0.000000    0.0   0.0  0.000000  0.0  \n",
       "\n",
       "[5 rows x 700 columns]"
      ]
     },
     "execution_count": 60,
     "metadata": {},
     "output_type": "execute_result"
    }
   ],
   "source": [
    "tf_idf = pd.DataFrame(features.toarray(), columns=vectorizer.get_feature_names())\n",
    "# tf_idf.drop('50', axis=1, inplace=True)\n",
    "tf_idf.head()"
   ]
  },
  {
   "cell_type": "code",
   "execution_count": 63,
   "id": "18136e27",
   "metadata": {},
   "outputs": [],
   "source": [
    "## splitting the columns \n",
    "# in train and test sets "
   ]
  },
  {
   "cell_type": "code",
   "execution_count": 62,
   "id": "fe7e382e",
   "metadata": {},
   "outputs": [
    {
     "name": "stdout",
     "output_type": "stream",
     "text": [
      "Train set shape\t:(1653, 700)\n",
      "Test set shape\t:(414, 700)\n"
     ]
    }
   ],
   "source": [
    "X_train, X_test, y_train, y_test = train_test_split(tf_idf, data1['sentiment_score'], test_size=0.2, random_state=42)\n",
    "\n",
    "print (f'Train set shape\\t:{X_train.shape}\\nTest set shape\\t:{X_test.shape}')"
   ]
  },
  {
   "cell_type": "code",
   "execution_count": 64,
   "id": "e2cdaac2",
   "metadata": {},
   "outputs": [
    {
     "data": {
      "text/html": [
       "<div>\n",
       "<style scoped>\n",
       "    .dataframe tbody tr th:only-of-type {\n",
       "        vertical-align: middle;\n",
       "    }\n",
       "\n",
       "    .dataframe tbody tr th {\n",
       "        vertical-align: top;\n",
       "    }\n",
       "\n",
       "    .dataframe thead th {\n",
       "        text-align: right;\n",
       "    }\n",
       "</style>\n",
       "<table border=\"1\" class=\"dataframe\">\n",
       "  <thead>\n",
       "    <tr style=\"text-align: right;\">\n",
       "      <th></th>\n",
       "      <th>50</th>\n",
       "      <th>99</th>\n",
       "      <th>ability</th>\n",
       "      <th>able</th>\n",
       "      <th>about</th>\n",
       "      <th>absolutely</th>\n",
       "      <th>access</th>\n",
       "      <th>account</th>\n",
       "      <th>actually</th>\n",
       "      <th>ad</th>\n",
       "      <th>...</th>\n",
       "      <th>wouldn</th>\n",
       "      <th>wrong</th>\n",
       "      <th>year</th>\n",
       "      <th>yet</th>\n",
       "      <th>you</th>\n",
       "      <th>young</th>\n",
       "      <th>your</th>\n",
       "      <th>youtube</th>\n",
       "      <th>yr</th>\n",
       "      <th>sentiment_score</th>\n",
       "    </tr>\n",
       "  </thead>\n",
       "  <tbody>\n",
       "    <tr>\n",
       "      <th>408</th>\n",
       "      <td>0.0</td>\n",
       "      <td>0.0</td>\n",
       "      <td>0.0</td>\n",
       "      <td>0.0</td>\n",
       "      <td>0.0</td>\n",
       "      <td>0.0</td>\n",
       "      <td>0.000000</td>\n",
       "      <td>0.0</td>\n",
       "      <td>0.0</td>\n",
       "      <td>0.0</td>\n",
       "      <td>...</td>\n",
       "      <td>0.0</td>\n",
       "      <td>0.0</td>\n",
       "      <td>0.0</td>\n",
       "      <td>0.0</td>\n",
       "      <td>0.0</td>\n",
       "      <td>0.0</td>\n",
       "      <td>0.000000</td>\n",
       "      <td>0.0</td>\n",
       "      <td>0.0</td>\n",
       "      <td>1</td>\n",
       "    </tr>\n",
       "    <tr>\n",
       "      <th>194</th>\n",
       "      <td>0.0</td>\n",
       "      <td>0.0</td>\n",
       "      <td>0.0</td>\n",
       "      <td>0.0</td>\n",
       "      <td>0.0</td>\n",
       "      <td>0.0</td>\n",
       "      <td>0.372758</td>\n",
       "      <td>0.0</td>\n",
       "      <td>0.0</td>\n",
       "      <td>0.0</td>\n",
       "      <td>...</td>\n",
       "      <td>0.0</td>\n",
       "      <td>0.0</td>\n",
       "      <td>0.0</td>\n",
       "      <td>0.0</td>\n",
       "      <td>0.0</td>\n",
       "      <td>0.0</td>\n",
       "      <td>0.000000</td>\n",
       "      <td>0.0</td>\n",
       "      <td>0.0</td>\n",
       "      <td>1</td>\n",
       "    </tr>\n",
       "    <tr>\n",
       "      <th>2012</th>\n",
       "      <td>0.0</td>\n",
       "      <td>0.0</td>\n",
       "      <td>0.0</td>\n",
       "      <td>0.0</td>\n",
       "      <td>0.0</td>\n",
       "      <td>0.0</td>\n",
       "      <td>0.000000</td>\n",
       "      <td>0.0</td>\n",
       "      <td>0.0</td>\n",
       "      <td>0.0</td>\n",
       "      <td>...</td>\n",
       "      <td>0.0</td>\n",
       "      <td>0.0</td>\n",
       "      <td>0.0</td>\n",
       "      <td>0.0</td>\n",
       "      <td>0.0</td>\n",
       "      <td>0.0</td>\n",
       "      <td>0.072455</td>\n",
       "      <td>0.0</td>\n",
       "      <td>0.0</td>\n",
       "      <td>0</td>\n",
       "    </tr>\n",
       "    <tr>\n",
       "      <th>1144</th>\n",
       "      <td>0.0</td>\n",
       "      <td>0.0</td>\n",
       "      <td>0.0</td>\n",
       "      <td>0.0</td>\n",
       "      <td>0.0</td>\n",
       "      <td>0.0</td>\n",
       "      <td>0.000000</td>\n",
       "      <td>0.0</td>\n",
       "      <td>0.0</td>\n",
       "      <td>0.0</td>\n",
       "      <td>...</td>\n",
       "      <td>0.0</td>\n",
       "      <td>0.0</td>\n",
       "      <td>0.0</td>\n",
       "      <td>0.0</td>\n",
       "      <td>0.0</td>\n",
       "      <td>0.0</td>\n",
       "      <td>0.000000</td>\n",
       "      <td>0.0</td>\n",
       "      <td>0.0</td>\n",
       "      <td>0</td>\n",
       "    </tr>\n",
       "    <tr>\n",
       "      <th>1785</th>\n",
       "      <td>0.0</td>\n",
       "      <td>0.0</td>\n",
       "      <td>0.0</td>\n",
       "      <td>0.0</td>\n",
       "      <td>0.0</td>\n",
       "      <td>0.0</td>\n",
       "      <td>0.000000</td>\n",
       "      <td>0.0</td>\n",
       "      <td>0.0</td>\n",
       "      <td>0.0</td>\n",
       "      <td>...</td>\n",
       "      <td>0.0</td>\n",
       "      <td>0.0</td>\n",
       "      <td>0.0</td>\n",
       "      <td>0.0</td>\n",
       "      <td>0.0</td>\n",
       "      <td>0.0</td>\n",
       "      <td>0.000000</td>\n",
       "      <td>0.0</td>\n",
       "      <td>0.0</td>\n",
       "      <td>0</td>\n",
       "    </tr>\n",
       "  </tbody>\n",
       "</table>\n",
       "<p>5 rows × 701 columns</p>\n",
       "</div>"
      ],
      "text/plain": [
       "       50   99  ability  able  about  absolutely    access  account  actually  \\\n",
       "408   0.0  0.0      0.0   0.0    0.0         0.0  0.000000      0.0       0.0   \n",
       "194   0.0  0.0      0.0   0.0    0.0         0.0  0.372758      0.0       0.0   \n",
       "2012  0.0  0.0      0.0   0.0    0.0         0.0  0.000000      0.0       0.0   \n",
       "1144  0.0  0.0      0.0   0.0    0.0         0.0  0.000000      0.0       0.0   \n",
       "1785  0.0  0.0      0.0   0.0    0.0         0.0  0.000000      0.0       0.0   \n",
       "\n",
       "       ad  ...  wouldn  wrong  year  yet  you  young      your  youtube   yr  \\\n",
       "408   0.0  ...     0.0    0.0   0.0  0.0  0.0    0.0  0.000000      0.0  0.0   \n",
       "194   0.0  ...     0.0    0.0   0.0  0.0  0.0    0.0  0.000000      0.0  0.0   \n",
       "2012  0.0  ...     0.0    0.0   0.0  0.0  0.0    0.0  0.072455      0.0  0.0   \n",
       "1144  0.0  ...     0.0    0.0   0.0  0.0  0.0    0.0  0.000000      0.0  0.0   \n",
       "1785  0.0  ...     0.0    0.0   0.0  0.0  0.0    0.0  0.000000      0.0  0.0   \n",
       "\n",
       "      sentiment_score  \n",
       "408                 1  \n",
       "194                 1  \n",
       "2012                0  \n",
       "1144                0  \n",
       "1785                0  \n",
       "\n",
       "[5 rows x 701 columns]"
      ]
     },
     "execution_count": 64,
     "metadata": {},
     "output_type": "execute_result"
    }
   ],
   "source": [
    "yy = pd.DataFrame(y_train)\n",
    "train_data = pd.concat([X_train, yy],axis=1)\n",
    "train_data.head()"
   ]
  },
  {
   "cell_type": "code",
   "execution_count": 65,
   "id": "6b465d9d",
   "metadata": {},
   "outputs": [
    {
     "data": {
      "text/plain": [
       "0    849\n",
       "1    804\n",
       "Name: sentiment_score, dtype: int64"
      ]
     },
     "execution_count": 65,
     "metadata": {},
     "output_type": "execute_result"
    }
   ],
   "source": [
    "train_data['sentiment_score'].value_counts()"
   ]
  },
  {
   "cell_type": "code",
   "execution_count": 66,
   "id": "c259b9fe",
   "metadata": {},
   "outputs": [
    {
     "data": {
      "text/html": [
       "<div>\n",
       "<style scoped>\n",
       "    .dataframe tbody tr th:only-of-type {\n",
       "        vertical-align: middle;\n",
       "    }\n",
       "\n",
       "    .dataframe tbody tr th {\n",
       "        vertical-align: top;\n",
       "    }\n",
       "\n",
       "    .dataframe thead th {\n",
       "        text-align: right;\n",
       "    }\n",
       "</style>\n",
       "<table border=\"1\" class=\"dataframe\">\n",
       "  <thead>\n",
       "    <tr style=\"text-align: right;\">\n",
       "      <th></th>\n",
       "      <th>50</th>\n",
       "      <th>99</th>\n",
       "      <th>ability</th>\n",
       "      <th>able</th>\n",
       "      <th>about</th>\n",
       "      <th>absolutely</th>\n",
       "      <th>access</th>\n",
       "      <th>account</th>\n",
       "      <th>actually</th>\n",
       "      <th>ad</th>\n",
       "      <th>...</th>\n",
       "      <th>wouldn</th>\n",
       "      <th>wrong</th>\n",
       "      <th>year</th>\n",
       "      <th>yet</th>\n",
       "      <th>you</th>\n",
       "      <th>young</th>\n",
       "      <th>your</th>\n",
       "      <th>youtube</th>\n",
       "      <th>yr</th>\n",
       "      <th>sentiment_score</th>\n",
       "    </tr>\n",
       "  </thead>\n",
       "  <tbody>\n",
       "    <tr>\n",
       "      <th>62</th>\n",
       "      <td>0.0</td>\n",
       "      <td>0.0</td>\n",
       "      <td>0.0</td>\n",
       "      <td>0.0</td>\n",
       "      <td>0.0</td>\n",
       "      <td>0.0</td>\n",
       "      <td>0.0</td>\n",
       "      <td>0.000000</td>\n",
       "      <td>0.0</td>\n",
       "      <td>0.0</td>\n",
       "      <td>...</td>\n",
       "      <td>0.0</td>\n",
       "      <td>0.0</td>\n",
       "      <td>0.0</td>\n",
       "      <td>0.0</td>\n",
       "      <td>0.000000</td>\n",
       "      <td>0.0</td>\n",
       "      <td>0.0</td>\n",
       "      <td>0.0</td>\n",
       "      <td>0.0</td>\n",
       "      <td>1</td>\n",
       "    </tr>\n",
       "    <tr>\n",
       "      <th>528</th>\n",
       "      <td>0.0</td>\n",
       "      <td>0.0</td>\n",
       "      <td>0.0</td>\n",
       "      <td>0.0</td>\n",
       "      <td>0.0</td>\n",
       "      <td>0.0</td>\n",
       "      <td>0.0</td>\n",
       "      <td>0.000000</td>\n",
       "      <td>0.0</td>\n",
       "      <td>0.0</td>\n",
       "      <td>...</td>\n",
       "      <td>0.0</td>\n",
       "      <td>0.0</td>\n",
       "      <td>0.0</td>\n",
       "      <td>0.0</td>\n",
       "      <td>0.094624</td>\n",
       "      <td>0.0</td>\n",
       "      <td>0.0</td>\n",
       "      <td>0.0</td>\n",
       "      <td>0.0</td>\n",
       "      <td>1</td>\n",
       "    </tr>\n",
       "    <tr>\n",
       "      <th>960</th>\n",
       "      <td>0.0</td>\n",
       "      <td>0.0</td>\n",
       "      <td>0.0</td>\n",
       "      <td>0.0</td>\n",
       "      <td>0.0</td>\n",
       "      <td>0.0</td>\n",
       "      <td>0.0</td>\n",
       "      <td>0.000000</td>\n",
       "      <td>0.0</td>\n",
       "      <td>0.0</td>\n",
       "      <td>...</td>\n",
       "      <td>0.0</td>\n",
       "      <td>0.0</td>\n",
       "      <td>0.0</td>\n",
       "      <td>0.0</td>\n",
       "      <td>0.000000</td>\n",
       "      <td>0.0</td>\n",
       "      <td>0.0</td>\n",
       "      <td>0.0</td>\n",
       "      <td>0.0</td>\n",
       "      <td>1</td>\n",
       "    </tr>\n",
       "    <tr>\n",
       "      <th>1718</th>\n",
       "      <td>0.0</td>\n",
       "      <td>0.0</td>\n",
       "      <td>0.0</td>\n",
       "      <td>0.0</td>\n",
       "      <td>0.0</td>\n",
       "      <td>0.0</td>\n",
       "      <td>0.0</td>\n",
       "      <td>0.000000</td>\n",
       "      <td>0.0</td>\n",
       "      <td>0.0</td>\n",
       "      <td>...</td>\n",
       "      <td>0.0</td>\n",
       "      <td>0.0</td>\n",
       "      <td>0.0</td>\n",
       "      <td>0.0</td>\n",
       "      <td>0.000000</td>\n",
       "      <td>0.0</td>\n",
       "      <td>0.0</td>\n",
       "      <td>0.0</td>\n",
       "      <td>0.0</td>\n",
       "      <td>0</td>\n",
       "    </tr>\n",
       "    <tr>\n",
       "      <th>950</th>\n",
       "      <td>0.0</td>\n",
       "      <td>0.0</td>\n",
       "      <td>0.0</td>\n",
       "      <td>0.0</td>\n",
       "      <td>0.0</td>\n",
       "      <td>0.0</td>\n",
       "      <td>0.0</td>\n",
       "      <td>0.247173</td>\n",
       "      <td>0.0</td>\n",
       "      <td>0.0</td>\n",
       "      <td>...</td>\n",
       "      <td>0.0</td>\n",
       "      <td>0.0</td>\n",
       "      <td>0.0</td>\n",
       "      <td>0.0</td>\n",
       "      <td>0.248109</td>\n",
       "      <td>0.0</td>\n",
       "      <td>0.0</td>\n",
       "      <td>0.0</td>\n",
       "      <td>0.0</td>\n",
       "      <td>1</td>\n",
       "    </tr>\n",
       "  </tbody>\n",
       "</table>\n",
       "<p>5 rows × 701 columns</p>\n",
       "</div>"
      ],
      "text/plain": [
       "       50   99  ability  able  about  absolutely  access   account  actually  \\\n",
       "62    0.0  0.0      0.0   0.0    0.0         0.0     0.0  0.000000       0.0   \n",
       "528   0.0  0.0      0.0   0.0    0.0         0.0     0.0  0.000000       0.0   \n",
       "960   0.0  0.0      0.0   0.0    0.0         0.0     0.0  0.000000       0.0   \n",
       "1718  0.0  0.0      0.0   0.0    0.0         0.0     0.0  0.000000       0.0   \n",
       "950   0.0  0.0      0.0   0.0    0.0         0.0     0.0  0.247173       0.0   \n",
       "\n",
       "       ad  ...  wouldn  wrong  year  yet       you  young  your  youtube   yr  \\\n",
       "62    0.0  ...     0.0    0.0   0.0  0.0  0.000000    0.0   0.0      0.0  0.0   \n",
       "528   0.0  ...     0.0    0.0   0.0  0.0  0.094624    0.0   0.0      0.0  0.0   \n",
       "960   0.0  ...     0.0    0.0   0.0  0.0  0.000000    0.0   0.0      0.0  0.0   \n",
       "1718  0.0  ...     0.0    0.0   0.0  0.0  0.000000    0.0   0.0      0.0  0.0   \n",
       "950   0.0  ...     0.0    0.0   0.0  0.0  0.248109    0.0   0.0      0.0  0.0   \n",
       "\n",
       "      sentiment_score  \n",
       "62                  1  \n",
       "528                 1  \n",
       "960                 1  \n",
       "1718                0  \n",
       "950                 1  \n",
       "\n",
       "[5 rows x 701 columns]"
      ]
     },
     "execution_count": 66,
     "metadata": {},
     "output_type": "execute_result"
    }
   ],
   "source": [
    "target_count = train_data['sentiment_score'].value_counts()\n",
    "negative_class = train_data[train_data['sentiment_score'] == 0]\n",
    "positive_class = train_data[train_data['sentiment_score'] == 1]\n",
    "\n",
    "negative_over = negative_class.sample(target_count[1], replace=True)\n",
    "\n",
    "df_train_over = pd.concat([positive_class, negative_over], axis=0)\n",
    "df_train_over = shuffle(df_train_over)\n",
    "df_train_over.head()"
   ]
  },
  {
   "cell_type": "code",
   "execution_count": 67,
   "id": "d69f2990",
   "metadata": {},
   "outputs": [],
   "source": [
    "df_train_over.dropna(inplace=True)"
   ]
  },
  {
   "cell_type": "code",
   "execution_count": 68,
   "id": "ecb3cfb0",
   "metadata": {},
   "outputs": [
    {
     "data": {
      "text/plain": [
       "1    804\n",
       "0    804\n",
       "Name: sentiment_score, dtype: int64"
      ]
     },
     "execution_count": 68,
     "metadata": {},
     "output_type": "execute_result"
    }
   ],
   "source": [
    "df_train_over['sentiment_score'].value_counts()"
   ]
  },
  {
   "cell_type": "code",
   "execution_count": 69,
   "id": "10ce8eaa",
   "metadata": {},
   "outputs": [],
   "source": [
    "X_train = df_train_over.iloc[:,:-1]\n",
    "y_train = df_train_over['sentiment_score']"
   ]
  },
  {
   "cell_type": "code",
   "execution_count": null,
   "id": "27506677",
   "metadata": {},
   "outputs": [],
   "source": []
  }
 ],
 "metadata": {
  "kernelspec": {
   "display_name": "Python 3 (ipykernel)",
   "language": "python",
   "name": "python3"
  },
  "language_info": {
   "codemirror_mode": {
    "name": "ipython",
    "version": 3
   },
   "file_extension": ".py",
   "mimetype": "text/x-python",
   "name": "python",
   "nbconvert_exporter": "python",
   "pygments_lexer": "ipython3",
   "version": "3.9.13"
  }
 },
 "nbformat": 4,
 "nbformat_minor": 5
}
